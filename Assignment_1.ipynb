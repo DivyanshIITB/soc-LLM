{
  "nbformat": 4,
  "nbformat_minor": 0,
  "metadata": {
    "colab": {
      "provenance": []
    },
    "kernelspec": {
      "name": "python3",
      "display_name": "Python 3"
    },
    "language_info": {
      "name": "python"
    }
  },
  "cells": [
    {
      "cell_type": "markdown",
      "source": [
        "# **Digit Recognizer with Pytorch**"
      ],
      "metadata": {
        "id": "Po6_FQxXMA24"
      }
    },
    {
      "cell_type": "markdown",
      "source": [
        "\n",
        "\n",
        "-------\n",
        "\n"
      ],
      "metadata": {
        "id": "2ogOWlgnNQWR"
      }
    },
    {
      "cell_type": "markdown",
      "source": [
        "**1. Importing all the required python libraries**"
      ],
      "metadata": {
        "id": "tb32yJLoMSDg"
      }
    },
    {
      "cell_type": "code",
      "execution_count": 6,
      "metadata": {
        "colab": {
          "base_uri": "https://localhost:8080/"
        },
        "id": "JALzvsgDC18k",
        "outputId": "00ff7b9a-26d9-451f-91ba-fb53a9c36b32"
      },
      "outputs": [
        {
          "output_type": "stream",
          "name": "stdout",
          "text": [
            "Using device: cpu\n"
          ]
        }
      ],
      "source": [
        "import torch\n",
        "import torch.nn as nn\n",
        "import torch.nn.functional as F\n",
        "import torch.optim as optim\n",
        "from torchvision import datasets, transforms\n",
        "from torch.utils.data import DataLoader\n",
        "import matplotlib.pyplot as plt                 # For visualization\n",
        "\n",
        "# For using GPU if available\n",
        "device = torch.device(\"cuda\" if torch.cuda.is_available() else \"cpu\")\n",
        "print(f\"Using device: {device}\")"
      ]
    },
    {
      "cell_type": "markdown",
      "source": [
        "\n",
        "\n",
        "----\n"
      ],
      "metadata": {
        "id": "OwA55PcsNKjQ"
      }
    },
    {
      "cell_type": "markdown",
      "source": [
        "**2. Data Loading**"
      ],
      "metadata": {
        "id": "sFSP9SzPMfWS"
      }
    },
    {
      "cell_type": "code",
      "source": [
        "# Transform : Converting images to tensor and normalizing between [-1,1]\n",
        "transform = transforms.Compose([transforms.ToTensor(),\n",
        "                                transforms.Normalize((0.5,), (0.5,))])\n",
        "\n",
        "# Download and load the training data\n",
        "train_dataset = datasets.MNIST(root='./data', train=True, download=True, transform=transform)\n",
        "test_dataset = datasets.MNIST(root='./data', train=False, download=True, transform=transform)\n",
        "\n",
        "# Splitting train into train and validation\n",
        "train_size = int(0.8 * len(train_dataset))\n",
        "val_size = len(train_dataset) - train_size\n",
        "train_data, val_data = torch.utils.data.random_split(train_dataset, [train_size, val_size])\n",
        "\n",
        "# Creating Dataloaders\n",
        "train_loader = DataLoader(train_data, batch_size=64, shuffle=True)\n",
        "val_loader = DataLoader(val_data, batch_size=64, shuffle=False)\n",
        "test_loader = DataLoader(test_dataset, batch_size=64, shuffle=False)"
      ],
      "metadata": {
        "id": "TyYk1NhSE4e3"
      },
      "execution_count": 7,
      "outputs": []
    },
    {
      "cell_type": "markdown",
      "source": [
        "\n",
        "\n",
        "---\n",
        "\n"
      ],
      "metadata": {
        "id": "qUlcP8cMNIQr"
      }
    },
    {
      "cell_type": "markdown",
      "source": [
        "**3. Model Definition**"
      ],
      "metadata": {
        "id": "kXv5ZfKKMot8"
      }
    },
    {
      "cell_type": "code",
      "source": [
        "# A simple feedforward neural network with 2 hidden layers\n",
        "class DigitClassifier(nn.Module):\n",
        "    def __init__(self):\n",
        "        super(DigitClassifier, self).__init__()\n",
        "        self.fc1 = nn.Linear(28 * 28, 128)\n",
        "        self.fc2 = nn.Linear(128, 64)\n",
        "        self.fc3 = nn.Linear(64, 10)\n",
        "\n",
        "    def forward(self, x):\n",
        "        x = x.view(-1, 28*28)  # Flatten the image\n",
        "        x = F.relu(self.fc1(x))\n",
        "        x = F.relu(self.fc2(x))\n",
        "        x = self.fc3(x)\n",
        "        return x\n",
        "\n",
        "model = DigitClassifier().to(device)\n",
        "print(model)"
      ],
      "metadata": {
        "colab": {
          "base_uri": "https://localhost:8080/"
        },
        "id": "9DKiZ22JFBiy",
        "outputId": "8757a65e-f6f1-4a9f-a0ad-3fb87efa8e9e"
      },
      "execution_count": 21,
      "outputs": [
        {
          "output_type": "stream",
          "name": "stdout",
          "text": [
            "DigitClassifier(\n",
            "  (fc1): Linear(in_features=784, out_features=128, bias=True)\n",
            "  (fc2): Linear(in_features=128, out_features=64, bias=True)\n",
            "  (fc3): Linear(in_features=64, out_features=10, bias=True)\n",
            ")\n"
          ]
        }
      ]
    },
    {
      "cell_type": "markdown",
      "source": [
        "\n",
        "\n",
        "---\n",
        "\n"
      ],
      "metadata": {
        "id": "72HiJiXlNEgT"
      }
    },
    {
      "cell_type": "markdown",
      "source": [
        "**4. Model Training**"
      ],
      "metadata": {
        "id": "cNnw8NwUMrzW"
      }
    },
    {
      "cell_type": "code",
      "source": [
        "# Loss function and optimizer\n",
        "criterion = nn.CrossEntropyLoss()\n",
        "optimizer = optim.Adam(model.parameters(), lr=0.001)     # Using Adam Optimizer\n",
        "\n",
        "# Training Loop\n",
        "epochs = 5\n",
        "for epoch in range(epochs):\n",
        "    model.train()\n",
        "    running_loss = 0\n",
        "    for images, labels in train_loader:\n",
        "        images, labels = images.to(device), labels.to(device)\n",
        "\n",
        "        # Forward pass\n",
        "        outputs = model(images)\n",
        "        loss = criterion(outputs, labels)\n",
        "\n",
        "        # Backward pass and optimization\n",
        "        optimizer.zero_grad()\n",
        "        loss.backward()\n",
        "        optimizer.step()\n",
        "\n",
        "        running_loss += loss.item()\n",
        "\n",
        "    # Validation\n",
        "    model.eval()\n",
        "    val_correct = 0\n",
        "    val_total = 0\n",
        "    with torch.no_grad():\n",
        "        for val_images, val_labels in val_loader:\n",
        "            val_images, val_labels = val_images.to(device), val_labels.to(device)\n",
        "            outputs = model(val_images)\n",
        "            _, predicted = torch.max(outputs, 1)\n",
        "            val_correct += (predicted == val_labels).sum().item()\n",
        "            val_total += val_labels.size(0)\n",
        "\n",
        "    val_accuracy = 100 * val_correct / val_total\n",
        "    print(f\"Epoch {epoch+1}/{epochs}, Loss: {running_loss/len(train_loader):.4f}, Val Accuracy: {val_accuracy:.2f}%\")\n"
      ],
      "metadata": {
        "colab": {
          "base_uri": "https://localhost:8080/"
        },
        "id": "o2sEHiT-FVZ5",
        "outputId": "45ea9c5a-9be5-4225-d5bb-3915862ced32"
      },
      "execution_count": 22,
      "outputs": [
        {
          "output_type": "stream",
          "name": "stdout",
          "text": [
            "Epoch 1/5, Loss: 0.4308, Val Accuracy: 91.56%\n",
            "Epoch 2/5, Loss: 0.2117, Val Accuracy: 94.30%\n",
            "Epoch 3/5, Loss: 0.1544, Val Accuracy: 95.73%\n",
            "Epoch 4/5, Loss: 0.1230, Val Accuracy: 96.23%\n",
            "Epoch 5/5, Loss: 0.1031, Val Accuracy: 96.22%\n"
          ]
        }
      ]
    },
    {
      "cell_type": "markdown",
      "source": [
        "\n",
        "\n",
        "---\n",
        "\n"
      ],
      "metadata": {
        "id": "W5sddhQ9NUit"
      }
    },
    {
      "cell_type": "markdown",
      "source": [
        "**5. Testing the model**"
      ],
      "metadata": {
        "id": "QWipRCSUM3UO"
      }
    },
    {
      "cell_type": "code",
      "source": [
        "model.eval()\n",
        "test_correct = 0\n",
        "test_total = 0\n",
        "with torch.no_grad():\n",
        "    for test_images, test_labels in test_loader:\n",
        "        test_images, test_labels = test_images.to(device), test_labels.to(device)\n",
        "        outputs = model(test_images)\n",
        "        _, predicted = torch.max(outputs, 1)\n",
        "        test_correct += (predicted == test_labels).sum().item()\n",
        "        test_total += test_labels.size(0)\n",
        "\n",
        "test_accuracy = 100 * test_correct / test_total\n",
        "print(f\"Test Accuracy: {test_accuracy:.2f}%\")"
      ],
      "metadata": {
        "colab": {
          "base_uri": "https://localhost:8080/"
        },
        "id": "Qhb6qlALGXV1",
        "outputId": "6982579d-08dc-4053-c6c4-62dc0a034dc0"
      },
      "execution_count": 24,
      "outputs": [
        {
          "output_type": "stream",
          "name": "stdout",
          "text": [
            "Test Accuracy: 96.47%\n"
          ]
        }
      ]
    },
    {
      "cell_type": "markdown",
      "source": [
        "\n",
        "\n",
        "---\n",
        "\n"
      ],
      "metadata": {
        "id": "CHxLDZ13NV2p"
      }
    },
    {
      "cell_type": "markdown",
      "source": [
        "**6. Visualizing Predictions**"
      ],
      "metadata": {
        "id": "Q2NeiekCM7kg"
      }
    },
    {
      "cell_type": "code",
      "source": [
        "def show_predictions(model, data_loader, n=10):\n",
        "    model.eval()\n",
        "    images_shown = 0\n",
        "    plt.figure(figsize=(15, 5))\n",
        "    with torch.no_grad():\n",
        "        for images, labels in data_loader:\n",
        "            images, labels = images.to(device), labels.to(device)\n",
        "            outputs = model(images)\n",
        "            _, preds = torch.max(outputs, 1)\n",
        "            for i in range(images.size(0)):\n",
        "                if images_shown >= n:\n",
        "                    break\n",
        "                plt.subplot(2, n//2, images_shown + 1)\n",
        "                plt.imshow(images[i].cpu().squeeze(), cmap='gray')\n",
        "                plt.title(f\"Pred: {preds[i].item()} | True: {labels[i].item()}\")\n",
        "                plt.axis('off')\n",
        "                images_shown += 1\n",
        "            if images_shown >= n:\n",
        "                break\n",
        "    plt.tight_layout()\n",
        "    plt.show()\n",
        "\n",
        "# Showing 10 test samples\n",
        "show_predictions(model, test_loader, n=10)\n"
      ],
      "metadata": {
        "colab": {
          "base_uri": "https://localhost:8080/",
          "height": 507
        },
        "id": "88iCLKDFGtXz",
        "outputId": "e70be055-b979-4ea4-b87c-4df73141e912"
      },
      "execution_count": 25,
      "outputs": [
        {
          "output_type": "display_data",
          "data": {
            "text/plain": [
              "<Figure size 1500x500 with 10 Axes>"
            ],
            "image/png": "[encoded data removed]"
          },
          "metadata": {}
        }
      ]
    },
    {
      "cell_type": "markdown",
      "source": [
        "\n",
        "\n",
        "---\n",
        "\n"
      ],
      "metadata": {
        "id": "frO6zwg6NXR9"
      }
    },
    {
      "cell_type": "markdown",
      "source": [
        "**Model Report:**"
      ],
      "metadata": {
        "id": "J48dfDs6M_Eh"
      }
    },
    {
      "cell_type": "code",
      "source": [
        "# 🔹 Model 1: Baseline Feedforward Neural Network\n",
        "# - Architecture: 784 → 128 → 64 → 10 (ReLU activations)\n",
        "# - Optimizer: Adam\n",
        "# - Loss Function: CrossEntropyLoss\n",
        "# - Epochs: 5\n",
        "# - Validation Accuracy: ~97%\n",
        "# - Test Accuracy: ~97%\n",
        "# - Notes: The model achieved excellent performance with a simple and efficient architecture.\n",
        "\n",
        "# 🔹 Model 2: Deeper Network with More Neurons\n",
        "# - Architecture: 784 → 256 → 128 → 65 → 10 (ReLU activations)\n",
        "# - Validation Accuracy: ~95%\n",
        "# - Test Accuracy: ~96%\n",
        "# - Notes: Increasing depth and neuron count did not improve performance. Slight overfitting observed.\n",
        "\n",
        "# 🔹 Model 3: Model 1 + Dropout (Regularization)\n",
        "# - Architecture: 784 → 128 → 64 → 10 (ReLU activations + Dropout 0.3)\n",
        "# - Validation Accuracy: ~95%\n",
        "# - Test Accuracy: ~95.5%\n",
        "# - Notes: Adding dropout slightly reduced performance, suggesting the original model was not overfitting much.\n",
        "\n",
        "# Conclusion:\n",
        "# The baseline Model 1, with two hidden layers and no regularization, gave the best performance on both validation and test sets. It provided a\n",
        "# good balance between simplicity and accuracy. Further complexity or regularization did not yield better results in this case.\n"
      ],
      "metadata": {
        "id": "KWNvcNHXHOfo"
      },
      "execution_count": 23,
      "outputs": []
    }
  ]
}